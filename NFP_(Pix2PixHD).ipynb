{
  "nbformat": 4,
  "nbformat_minor": 0,
  "metadata": {
    "colab": {
      "name": "NFP (Pix2PixHD).ipynb",
      "provenance": [],
      "include_colab_link": true
    },
    "kernelspec": {
      "name": "python3",
      "display_name": "Python 3"
    },
    "accelerator": "GPU"
  },
  "cells": [
    {
      "cell_type": "markdown",
      "metadata": {
        "id": "view-in-github",
        "colab_type": "text"
      },
      "source": [
        "<a href=\"https://colab.research.google.com/github/dvschultz/pix2pixHD/blob/master/NFP_(Pix2PixHD).ipynb\" target=\"_parent\"><img src=\"https://colab.research.google.com/assets/colab-badge.svg\" alt=\"Open In Colab\"/></a>"
      ]
    },
    {
      "cell_type": "markdown",
      "metadata": {
        "id": "_YT0LIrNv9KH",
        "colab_type": "text"
      },
      "source": [
        "#Next Frame Prediction using Pix2PixHD\n",
        "Based on https://medium.com/@jctestud/video-generation-with-pix2pix-aed5b1b69f57\n"
      ]
    },
    {
      "cell_type": "code",
      "metadata": {
        "id": "1C-yCIqZMDN3",
        "colab_type": "code",
        "outputId": "087d0863-df31-45ce-cad6-74993b21e550",
        "colab": {
          "base_uri": "https://localhost:8080/",
          "height": 241
        }
      },
      "source": [
        "!git clone -b video https://github.com/dvschultz/pix2pixHD\n",
        "!pip install dominate\n",
        "%cd pix2pixHD/"
      ],
      "execution_count": 0,
      "outputs": [
        {
          "output_type": "stream",
          "text": [
            "Cloning into 'pix2pixHD'...\n",
            "remote: Enumerating objects: 10, done.\u001b[K\n",
            "remote: Counting objects: 100% (10/10), done.\u001b[K\n",
            "remote: Compressing objects: 100% (10/10), done.\u001b[K\n",
            "remote: Total 419 (delta 3), reused 0 (delta 0), pack-reused 409\u001b[K\n",
            "Receiving objects: 100% (419/419), 55.71 MiB | 9.06 MiB/s, done.\n",
            "Resolving deltas: 100% (205/205), done.\n",
            "Collecting dominate\n",
            "  Downloading https://files.pythonhosted.org/packages/1d/64/593e829416c951eb35c2246430d59b86f640087e29e71f32632bcde5d0f7/dominate-2.4.0-py2.py3-none-any.whl\n",
            "Installing collected packages: dominate\n",
            "Successfully installed dominate-2.4.0\n",
            "/content/pix2pixHD\n"
          ],
          "name": "stdout"
        }
      ]
    },
    {
      "cell_type": "markdown",
      "metadata": {
        "id": "h6dix4fLMadS",
        "colab_type": "text"
      },
      "source": [
        "#Extract frames from video\n",
        "Upload a 1280x720 video to Colab. Then run the following command, replacing the video path with your video and giving the `-name` argument a new name to match your video."
      ]
    },
    {
      "cell_type": "code",
      "metadata": {
        "id": "j7EFM5NaMWQx",
        "colab_type": "code",
        "outputId": "d9ac98c8-87dd-4982-eb91-f4405efb1abb",
        "colab": {
          "base_uri": "https://localhost:8080/",
          "height": 88
        }
      },
      "source": [
        "!python extract_frames.py -video /content/tusk-720.mov -name tusk -p2pdir . -width 1280 -height 736"
      ],
      "execution_count": 0,
      "outputs": [
        {
          "output_type": "stream",
          "text": [
            "creating the dataset structure\n",
            "ffmpeg -v 16 -i /content/tusk-720.mov -q:v 2 -vf \"scale=iw*736/ih:736, crop=1280:736\" /content/pix2pixHD/datasets/tusk/train_frames/frame-%06d.jpg -hide_banner\n",
            "extracting the frames\n"
          ],
          "name": "stdout"
        }
      ]
    },
    {
      "cell_type": "markdown",
      "metadata": {
        "id": "fMX5uqJnNJUY",
        "colab_type": "text"
      },
      "source": [
        "Inside of the `pix2pixHD/datasets` folder you will see a folder that matches the name you entered in the code above. Inside that will be a train and test set of your video as a sequence of still images."
      ]
    },
    {
      "cell_type": "markdown",
      "metadata": {
        "id": "JZYKIsytNcao",
        "colab_type": "text"
      },
      "source": [
        "#Training"
      ]
    },
    {
      "cell_type": "code",
      "metadata": {
        "id": "5FSVIuVNNBOe",
        "colab_type": "code",
        "outputId": "b9c3bf3f-1b20-4627-d6e0-e9c52b7d67ee",
        "colab": {
          "base_uri": "https://localhost:8080/",
          "height": 1000
        }
      },
      "source": [
        "!python train_video.py --name tusk --dataroot ./datasets/tusk/ --save_epoch_freq 1"
      ],
      "execution_count": 0,
      "outputs": [
        {
          "output_type": "stream",
          "text": [
            "------------ Options -------------\n",
            "batchSize: 1\n",
            "beta1: 0.5\n",
            "checkpoints_dir: ./checkpoints\n",
            "continue_train: False\n",
            "data_type: 32\n",
            "dataroot: ./datasets/tusk/\n",
            "debug: False\n",
            "display_freq: 100\n",
            "display_winsize: 512\n",
            "feat_num: 3\n",
            "fineSize: 512\n",
            "fps: 24.0\n",
            "gpu_ids: [0]\n",
            "heat_seeking_lvl: 0\n",
            "input_nc: 3\n",
            "instance_feat: False\n",
            "isTrain: True\n",
            "label_feat: False\n",
            "label_nc: 35\n",
            "lambda_feat: 10.0\n",
            "loadSize: 1024\n",
            "load_features: False\n",
            "load_pretrain: \n",
            "lr: 0.0002\n",
            "max_dataset_size: inf\n",
            "model: pix2pixHD\n",
            "nThreads: 2\n",
            "n_blocks_global: 9\n",
            "n_blocks_local: 3\n",
            "n_clusters: 10\n",
            "n_downsample_E: 4\n",
            "n_downsample_global: 4\n",
            "n_layers_D: 3\n",
            "n_local_enhancers: 1\n",
            "name: tusk\n",
            "ndf: 64\n",
            "nef: 16\n",
            "netG: global\n",
            "ngf: 64\n",
            "niter: 100\n",
            "niter_decay: 100\n",
            "niter_fix_global: 0\n",
            "no_flip: False\n",
            "no_ganFeat_loss: False\n",
            "no_html: False\n",
            "no_instance: False\n",
            "no_lsgan: False\n",
            "no_vgg_loss: False\n",
            "norm: instance\n",
            "num_D: 2\n",
            "output_nc: 3\n",
            "phase: train\n",
            "pool_size: 0\n",
            "print_freq: 100\n",
            "pstart: 1\n",
            "pstop: 1\n",
            "resize_or_crop: scale_width\n",
            "save_epoch_freq: 1\n",
            "save_latest_freq: 1000\n",
            "scheduled_sampling: False\n",
            "serial_batches: False\n",
            "ss_recursion_prob: 0.2\n",
            "start_from: video\n",
            "tf_log: False\n",
            "use_dropout: False\n",
            "verbose: False\n",
            "video_mode: False\n",
            "which_epoch: latest\n",
            "zoom_lvl: 0\n",
            "-------------- End ----------------\n",
            "CustomDatasetDataLoader\n",
            "dataset [FrameDataset] was created\n",
            "FrameDataset initialized from: ./datasets/tusk/train_frames\n",
            "contains 776 frames, 775 consecutive pairs\n",
            "#training images = 775\n",
            "Downloading: \"https://download.pytorch.org/models/vgg19-dcbb9e9d.pth\" to /root/.cache/torch/checkpoints/vgg19-dcbb9e9d.pth\n",
            "100% 548M/548M [00:02<00:00, 239MB/s]\n",
            "create web directory ./checkpoints/tusk/web...\n"
          ],
          "name": "stdout"
        }
      ]
    },
    {
      "cell_type": "code",
      "metadata": {
        "id": "qtQeOHP2NjYw",
        "colab_type": "code",
        "colab": {}
      },
      "source": [
        ""
      ],
      "execution_count": 0,
      "outputs": []
    },
    {
      "cell_type": "markdown",
      "metadata": {
        "id": "endSZwy5OGsZ",
        "colab_type": "text"
      },
      "source": [
        "#Testing"
      ]
    },
    {
      "cell_type": "code",
      "metadata": {
        "id": "3u_5ih67Opo2",
        "colab_type": "code",
        "colab": {}
      },
      "source": [
        "!python generate_video.py --name tusk --dataroot ./datasets/tusk/ --fps 24 --which_epoch 1 --how_many 200"
      ],
      "execution_count": 0,
      "outputs": []
    }
  ]
}